{
 "cells": [
  {
   "cell_type": "markdown",
   "metadata": {},
   "source": [
    "# Aviation Accidents - Risk Analysis\n",
    "\n",
    "**Author**: Endalkachew Dessalegne"
   ]
  },
  {
   "cell_type": "markdown",
   "metadata": {},
   "source": [
    "   ![img](./images/image-aircraft1.jpg)"
   ]
  },
  {
   "cell_type": "markdown",
   "metadata": {},
   "source": [
    "## Overview\n",
    "The company is planning to expand to the aviation industry by purchasing and operating airplanes for commercial and private enterprises. This project uses descriptive statistical analysis on aviation accident data from Kaggle to gain insight into which aircraft is with the lowest risk. It analyzes aviation accidents data to find out the potential risks of purchasing different aircrafts and recommend which aircraft to purchase. This require insight into which types of aircrafts are with the lowest risk. That is by analyzing how make and model of aircrafts, number and type of engines relate to accidents and injuries and damages caused by aircraft accidents which occurred within the United States, its territories and possessions, and in international waters. The data analysis generally shows that as aircraft's number of engines increases the number of accidents and injuries and damages decreases. It also shows that aircrafts with certain types of engine type are more involved in accidents than the others. This engine types includes Reciprocating engine. Moreover, some aircraft Make such as Cessna and its Models 172 and 152 are shown to be involved in accidents more than others. The data analysis also shows that how combination of different factors affects risk of accidents. My recommendation for which type of aircraft to purchase would be to focus on the number and type of engines of the aircrafts. Most importantly, avoid some combination of factors such as Cessna Make, Reciprocating type and one engine, which has the highest number of accidents and injuries recorded."
   ]
  },
  {
   "cell_type": "markdown",
   "metadata": {},
   "source": [
    "## Business Problem\n",
    "\n",
    "The company wants to expand into the aviation industry and wants to purchase aircrafts with the lowest risk in order to maximize profit. To determine this, aviation accident dataset was analyzed to find out which factors incrase or decrease the risk of aviation accidents so as to gain an insight to which type of aircraft to purchase for the company to minimize risk and maximize profit."
   ]
  },
  {
   "cell_type": "markdown",
   "metadata": {},
   "source": [
    "## Data Understanding\n",
    "\n",
    "The data analyzed came from The NTSB aviation accident database from on Kaggle website. It contains information from 1962 and later about civil aviation accidents and selected incidents within the United States, its territories and possessions, and in international waters. I used one file to get an insight on how aircraft Make and Model, and number and type of engine correlates with number of accidents, fatal and serious injuries and damage to aircraft."
   ]
  },
  {
   "cell_type": "code",
   "execution_count": 561,
   "metadata": {},
   "outputs": [],
   "source": [
    "# Import standard packages\n",
    "import pandas as pd\n",
    "import numpy as np\n",
    "import matplotlib.pyplot as plt\n",
    "import seaborn as sns\n",
    "\n",
    "%matplotlib inline"
   ]
  },
  {
   "cell_type": "code",
   "execution_count": 581,
   "metadata": {
    "scrolled": true
   },
   "outputs": [],
   "source": [
    "#store the data in a variable aviation_df\n",
    "aviation_df = pd.read_csv('data/AviationData.csv', encoding='latin-1', low_memory=False)"
   ]
  },
  {
   "cell_type": "code",
   "execution_count": 582,
   "metadata": {},
   "outputs": [
    {
     "data": {
      "text/html": [
       "<div>\n",
       "<style scoped>\n",
       "    .dataframe tbody tr th:only-of-type {\n",
       "        vertical-align: middle;\n",
       "    }\n",
       "\n",
       "    .dataframe tbody tr th {\n",
       "        vertical-align: top;\n",
       "    }\n",
       "\n",
       "    .dataframe thead th {\n",
       "        text-align: right;\n",
       "    }\n",
       "</style>\n",
       "<table border=\"1\" class=\"dataframe\">\n",
       "  <thead>\n",
       "    <tr style=\"text-align: right;\">\n",
       "      <th></th>\n",
       "      <th>Event.Id</th>\n",
       "      <th>Investigation.Type</th>\n",
       "      <th>Accident.Number</th>\n",
       "      <th>Event.Date</th>\n",
       "      <th>Location</th>\n",
       "      <th>Country</th>\n",
       "      <th>Latitude</th>\n",
       "      <th>Longitude</th>\n",
       "      <th>Airport.Code</th>\n",
       "      <th>Airport.Name</th>\n",
       "      <th>...</th>\n",
       "      <th>Purpose.of.flight</th>\n",
       "      <th>Air.carrier</th>\n",
       "      <th>Total.Fatal.Injuries</th>\n",
       "      <th>Total.Serious.Injuries</th>\n",
       "      <th>Total.Minor.Injuries</th>\n",
       "      <th>Total.Uninjured</th>\n",
       "      <th>Weather.Condition</th>\n",
       "      <th>Broad.phase.of.flight</th>\n",
       "      <th>Report.Status</th>\n",
       "      <th>Publication.Date</th>\n",
       "    </tr>\n",
       "  </thead>\n",
       "  <tbody>\n",
       "    <tr>\n",
       "      <th>0</th>\n",
       "      <td>20001218X45444</td>\n",
       "      <td>Accident</td>\n",
       "      <td>SEA87LA080</td>\n",
       "      <td>1948-10-24</td>\n",
       "      <td>MOOSE CREEK, ID</td>\n",
       "      <td>United States</td>\n",
       "      <td>NaN</td>\n",
       "      <td>NaN</td>\n",
       "      <td>NaN</td>\n",
       "      <td>NaN</td>\n",
       "      <td>...</td>\n",
       "      <td>Personal</td>\n",
       "      <td>NaN</td>\n",
       "      <td>2.0</td>\n",
       "      <td>0.0</td>\n",
       "      <td>0.0</td>\n",
       "      <td>0.0</td>\n",
       "      <td>UNK</td>\n",
       "      <td>Cruise</td>\n",
       "      <td>Probable Cause</td>\n",
       "      <td>NaN</td>\n",
       "    </tr>\n",
       "    <tr>\n",
       "      <th>1</th>\n",
       "      <td>20001218X45447</td>\n",
       "      <td>Accident</td>\n",
       "      <td>LAX94LA336</td>\n",
       "      <td>1962-07-19</td>\n",
       "      <td>BRIDGEPORT, CA</td>\n",
       "      <td>United States</td>\n",
       "      <td>NaN</td>\n",
       "      <td>NaN</td>\n",
       "      <td>NaN</td>\n",
       "      <td>NaN</td>\n",
       "      <td>...</td>\n",
       "      <td>Personal</td>\n",
       "      <td>NaN</td>\n",
       "      <td>4.0</td>\n",
       "      <td>0.0</td>\n",
       "      <td>0.0</td>\n",
       "      <td>0.0</td>\n",
       "      <td>UNK</td>\n",
       "      <td>Unknown</td>\n",
       "      <td>Probable Cause</td>\n",
       "      <td>19-09-1996</td>\n",
       "    </tr>\n",
       "    <tr>\n",
       "      <th>2</th>\n",
       "      <td>20061025X01555</td>\n",
       "      <td>Accident</td>\n",
       "      <td>NYC07LA005</td>\n",
       "      <td>1974-08-30</td>\n",
       "      <td>Saltville, VA</td>\n",
       "      <td>United States</td>\n",
       "      <td>36.922223</td>\n",
       "      <td>-81.878056</td>\n",
       "      <td>NaN</td>\n",
       "      <td>NaN</td>\n",
       "      <td>...</td>\n",
       "      <td>Personal</td>\n",
       "      <td>NaN</td>\n",
       "      <td>3.0</td>\n",
       "      <td>NaN</td>\n",
       "      <td>NaN</td>\n",
       "      <td>NaN</td>\n",
       "      <td>IMC</td>\n",
       "      <td>Cruise</td>\n",
       "      <td>Probable Cause</td>\n",
       "      <td>26-02-2007</td>\n",
       "    </tr>\n",
       "    <tr>\n",
       "      <th>3</th>\n",
       "      <td>20001218X45448</td>\n",
       "      <td>Accident</td>\n",
       "      <td>LAX96LA321</td>\n",
       "      <td>1977-06-19</td>\n",
       "      <td>EUREKA, CA</td>\n",
       "      <td>United States</td>\n",
       "      <td>NaN</td>\n",
       "      <td>NaN</td>\n",
       "      <td>NaN</td>\n",
       "      <td>NaN</td>\n",
       "      <td>...</td>\n",
       "      <td>Personal</td>\n",
       "      <td>NaN</td>\n",
       "      <td>2.0</td>\n",
       "      <td>0.0</td>\n",
       "      <td>0.0</td>\n",
       "      <td>0.0</td>\n",
       "      <td>IMC</td>\n",
       "      <td>Cruise</td>\n",
       "      <td>Probable Cause</td>\n",
       "      <td>12-09-2000</td>\n",
       "    </tr>\n",
       "    <tr>\n",
       "      <th>4</th>\n",
       "      <td>20041105X01764</td>\n",
       "      <td>Accident</td>\n",
       "      <td>CHI79FA064</td>\n",
       "      <td>1979-08-02</td>\n",
       "      <td>Canton, OH</td>\n",
       "      <td>United States</td>\n",
       "      <td>NaN</td>\n",
       "      <td>NaN</td>\n",
       "      <td>NaN</td>\n",
       "      <td>NaN</td>\n",
       "      <td>...</td>\n",
       "      <td>Personal</td>\n",
       "      <td>NaN</td>\n",
       "      <td>1.0</td>\n",
       "      <td>2.0</td>\n",
       "      <td>NaN</td>\n",
       "      <td>0.0</td>\n",
       "      <td>VMC</td>\n",
       "      <td>Approach</td>\n",
       "      <td>Probable Cause</td>\n",
       "      <td>16-04-1980</td>\n",
       "    </tr>\n",
       "  </tbody>\n",
       "</table>\n",
       "<p>5 rows × 31 columns</p>\n",
       "</div>"
      ],
      "text/plain": [
       "         Event.Id Investigation.Type Accident.Number  Event.Date  \\\n",
       "0  20001218X45444           Accident      SEA87LA080  1948-10-24   \n",
       "1  20001218X45447           Accident      LAX94LA336  1962-07-19   \n",
       "2  20061025X01555           Accident      NYC07LA005  1974-08-30   \n",
       "3  20001218X45448           Accident      LAX96LA321  1977-06-19   \n",
       "4  20041105X01764           Accident      CHI79FA064  1979-08-02   \n",
       "\n",
       "          Location        Country   Latitude   Longitude Airport.Code  \\\n",
       "0  MOOSE CREEK, ID  United States        NaN         NaN          NaN   \n",
       "1   BRIDGEPORT, CA  United States        NaN         NaN          NaN   \n",
       "2    Saltville, VA  United States  36.922223  -81.878056          NaN   \n",
       "3       EUREKA, CA  United States        NaN         NaN          NaN   \n",
       "4       Canton, OH  United States        NaN         NaN          NaN   \n",
       "\n",
       "  Airport.Name  ... Purpose.of.flight Air.carrier Total.Fatal.Injuries  \\\n",
       "0          NaN  ...          Personal         NaN                  2.0   \n",
       "1          NaN  ...          Personal         NaN                  4.0   \n",
       "2          NaN  ...          Personal         NaN                  3.0   \n",
       "3          NaN  ...          Personal         NaN                  2.0   \n",
       "4          NaN  ...          Personal         NaN                  1.0   \n",
       "\n",
       "  Total.Serious.Injuries Total.Minor.Injuries Total.Uninjured  \\\n",
       "0                    0.0                  0.0             0.0   \n",
       "1                    0.0                  0.0             0.0   \n",
       "2                    NaN                  NaN             NaN   \n",
       "3                    0.0                  0.0             0.0   \n",
       "4                    2.0                  NaN             0.0   \n",
       "\n",
       "  Weather.Condition  Broad.phase.of.flight   Report.Status Publication.Date  \n",
       "0               UNK                 Cruise  Probable Cause              NaN  \n",
       "1               UNK                Unknown  Probable Cause       19-09-1996  \n",
       "2               IMC                 Cruise  Probable Cause       26-02-2007  \n",
       "3               IMC                 Cruise  Probable Cause       12-09-2000  \n",
       "4               VMC               Approach  Probable Cause       16-04-1980  \n",
       "\n",
       "[5 rows x 31 columns]"
      ]
     },
     "execution_count": 582,
     "metadata": {},
     "output_type": "execute_result"
    }
   ],
   "source": [
    "# view the first five rows\n",
    "aviation_df.head()"
   ]
  },
  {
   "cell_type": "code",
   "execution_count": 583,
   "metadata": {},
   "outputs": [
    {
     "name": "stdout",
     "output_type": "stream",
     "text": [
      "<class 'pandas.core.frame.DataFrame'>\n",
      "RangeIndex: 88889 entries, 0 to 88888\n",
      "Data columns (total 31 columns):\n",
      " #   Column                  Non-Null Count  Dtype  \n",
      "---  ------                  --------------  -----  \n",
      " 0   Event.Id                88889 non-null  object \n",
      " 1   Investigation.Type      88889 non-null  object \n",
      " 2   Accident.Number         88889 non-null  object \n",
      " 3   Event.Date              88889 non-null  object \n",
      " 4   Location                88837 non-null  object \n",
      " 5   Country                 88663 non-null  object \n",
      " 6   Latitude                34382 non-null  object \n",
      " 7   Longitude               34373 non-null  object \n",
      " 8   Airport.Code            50249 non-null  object \n",
      " 9   Airport.Name            52790 non-null  object \n",
      " 10  Injury.Severity         87889 non-null  object \n",
      " 11  Aircraft.damage         85695 non-null  object \n",
      " 12  Aircraft.Category       32287 non-null  object \n",
      " 13  Registration.Number     87572 non-null  object \n",
      " 14  Make                    88826 non-null  object \n",
      " 15  Model                   88797 non-null  object \n",
      " 16  Amateur.Built           88787 non-null  object \n",
      " 17  Number.of.Engines       82805 non-null  float64\n",
      " 18  Engine.Type             81812 non-null  object \n",
      " 19  FAR.Description         32023 non-null  object \n",
      " 20  Schedule                12582 non-null  object \n",
      " 21  Purpose.of.flight       82697 non-null  object \n",
      " 22  Air.carrier             16648 non-null  object \n",
      " 23  Total.Fatal.Injuries    77488 non-null  float64\n",
      " 24  Total.Serious.Injuries  76379 non-null  float64\n",
      " 25  Total.Minor.Injuries    76956 non-null  float64\n",
      " 26  Total.Uninjured         82977 non-null  float64\n",
      " 27  Weather.Condition       84397 non-null  object \n",
      " 28  Broad.phase.of.flight   61724 non-null  object \n",
      " 29  Report.Status           82508 non-null  object \n",
      " 30  Publication.Date        75118 non-null  object \n",
      "dtypes: float64(5), object(26)\n",
      "memory usage: 21.0+ MB\n"
     ]
    }
   ],
   "source": [
    "# summary of the data \n",
    "aviation_df.info()"
   ]
  },
  {
   "cell_type": "code",
   "execution_count": 584,
   "metadata": {},
   "outputs": [
    {
     "data": {
      "text/html": [
       "<div>\n",
       "<style scoped>\n",
       "    .dataframe tbody tr th:only-of-type {\n",
       "        vertical-align: middle;\n",
       "    }\n",
       "\n",
       "    .dataframe tbody tr th {\n",
       "        vertical-align: top;\n",
       "    }\n",
       "\n",
       "    .dataframe thead th {\n",
       "        text-align: right;\n",
       "    }\n",
       "</style>\n",
       "<table border=\"1\" class=\"dataframe\">\n",
       "  <thead>\n",
       "    <tr style=\"text-align: right;\">\n",
       "      <th></th>\n",
       "      <th>Number.of.Engines</th>\n",
       "      <th>Total.Fatal.Injuries</th>\n",
       "      <th>Total.Serious.Injuries</th>\n",
       "      <th>Total.Minor.Injuries</th>\n",
       "      <th>Total.Uninjured</th>\n",
       "    </tr>\n",
       "  </thead>\n",
       "  <tbody>\n",
       "    <tr>\n",
       "      <th>count</th>\n",
       "      <td>82805.000000</td>\n",
       "      <td>77488.000000</td>\n",
       "      <td>76379.000000</td>\n",
       "      <td>76956.000000</td>\n",
       "      <td>82977.000000</td>\n",
       "    </tr>\n",
       "    <tr>\n",
       "      <th>mean</th>\n",
       "      <td>1.146585</td>\n",
       "      <td>0.647855</td>\n",
       "      <td>0.279881</td>\n",
       "      <td>0.357061</td>\n",
       "      <td>5.325440</td>\n",
       "    </tr>\n",
       "    <tr>\n",
       "      <th>std</th>\n",
       "      <td>0.446510</td>\n",
       "      <td>5.485960</td>\n",
       "      <td>1.544084</td>\n",
       "      <td>2.235625</td>\n",
       "      <td>27.913634</td>\n",
       "    </tr>\n",
       "    <tr>\n",
       "      <th>min</th>\n",
       "      <td>0.000000</td>\n",
       "      <td>0.000000</td>\n",
       "      <td>0.000000</td>\n",
       "      <td>0.000000</td>\n",
       "      <td>0.000000</td>\n",
       "    </tr>\n",
       "    <tr>\n",
       "      <th>25%</th>\n",
       "      <td>1.000000</td>\n",
       "      <td>0.000000</td>\n",
       "      <td>0.000000</td>\n",
       "      <td>0.000000</td>\n",
       "      <td>0.000000</td>\n",
       "    </tr>\n",
       "    <tr>\n",
       "      <th>50%</th>\n",
       "      <td>1.000000</td>\n",
       "      <td>0.000000</td>\n",
       "      <td>0.000000</td>\n",
       "      <td>0.000000</td>\n",
       "      <td>1.000000</td>\n",
       "    </tr>\n",
       "    <tr>\n",
       "      <th>75%</th>\n",
       "      <td>1.000000</td>\n",
       "      <td>0.000000</td>\n",
       "      <td>0.000000</td>\n",
       "      <td>0.000000</td>\n",
       "      <td>2.000000</td>\n",
       "    </tr>\n",
       "    <tr>\n",
       "      <th>max</th>\n",
       "      <td>8.000000</td>\n",
       "      <td>349.000000</td>\n",
       "      <td>161.000000</td>\n",
       "      <td>380.000000</td>\n",
       "      <td>699.000000</td>\n",
       "    </tr>\n",
       "  </tbody>\n",
       "</table>\n",
       "</div>"
      ],
      "text/plain": [
       "       Number.of.Engines  Total.Fatal.Injuries  Total.Serious.Injuries  \\\n",
       "count       82805.000000          77488.000000            76379.000000   \n",
       "mean            1.146585              0.647855                0.279881   \n",
       "std             0.446510              5.485960                1.544084   \n",
       "min             0.000000              0.000000                0.000000   \n",
       "25%             1.000000              0.000000                0.000000   \n",
       "50%             1.000000              0.000000                0.000000   \n",
       "75%             1.000000              0.000000                0.000000   \n",
       "max             8.000000            349.000000              161.000000   \n",
       "\n",
       "       Total.Minor.Injuries  Total.Uninjured  \n",
       "count          76956.000000     82977.000000  \n",
       "mean               0.357061         5.325440  \n",
       "std                2.235625        27.913634  \n",
       "min                0.000000         0.000000  \n",
       "25%                0.000000         0.000000  \n",
       "50%                0.000000         1.000000  \n",
       "75%                0.000000         2.000000  \n",
       "max              380.000000       699.000000  "
      ]
     },
     "execution_count": 584,
     "metadata": {},
     "output_type": "execute_result"
    }
   ],
   "source": [
    "aviation_df.describe()"
   ]
  },
  {
   "cell_type": "markdown",
   "metadata": {},
   "source": [
    "***\n",
    "* The data represents aviation acccidents from 1962 and consists of aircraft categories, \n",
    "  make, model, number and type of engines of aircrafts involved in the acccidents.\n",
    "* It consists of 88,889 entries or rows and 31 columns or variables\n",
    "* It consists of injuries and damages levels caused by the accidents in different columns.\n",
    "* The variables such as make and model of aircrafts and type and number of engines of aircraf in relation to the injuries and\n",
    "  damages will be analyzed. \n",
    "***\n",
    "\n"
   ]
  },
  {
   "cell_type": "markdown",
   "metadata": {},
   "source": [
    "## Data Preparation\n",
    "## Data Cleaning"
   ]
  },
  {
   "cell_type": "code",
   "execution_count": 586,
   "metadata": {},
   "outputs": [],
   "source": [
    "# Make column names easier to use by striping the '.' and replace with '_' and lower case\n",
    "aviation_df.columns = aviation_df.columns.str.lower().str.replace('.', '_')"
   ]
  },
  {
   "cell_type": "code",
   "execution_count": 587,
   "metadata": {
    "scrolled": true
   },
   "outputs": [
    {
     "data": {
      "text/plain": [
       "Index(['event_id', 'investigation_type', 'accident_number', 'event_date',\n",
       "       'location', 'country', 'latitude', 'longitude', 'airport_code',\n",
       "       'airport_name', 'injury_severity', 'aircraft_damage',\n",
       "       'aircraft_category', 'registration_number', 'make', 'model',\n",
       "       'amateur_built', 'number_of_engines', 'engine_type', 'far_description',\n",
       "       'schedule', 'purpose_of_flight', 'air_carrier', 'total_fatal_injuries',\n",
       "       'total_serious_injuries', 'total_minor_injuries', 'total_uninjured',\n",
       "       'weather_condition', 'broad_phase_of_flight', 'report_status',\n",
       "       'publication_date'],\n",
       "      dtype='object')"
      ]
     },
     "execution_count": 587,
     "metadata": {},
     "output_type": "execute_result"
    }
   ],
   "source": [
    "#get list of columns\n",
    "aviation_df.columns"
   ]
  },
  {
   "cell_type": "markdown",
   "metadata": {},
   "source": [
    "### Drop columns\n",
    "\n",
    "The dataset consists of columns with a lot of missing values and which are less valueable in this analysis.\n",
    " "
   ]
  },
  {
   "cell_type": "code",
   "execution_count": 588,
   "metadata": {},
   "outputs": [],
   "source": [
    "# Drop unnecessary columns\n",
    "aviation_df = aviation_df.drop(['event_id', 'accident_number', 'location', 'air_carrier', 'latitude', 'longitude', 'airport_code', 'airport_name', 'registration_number',\\\n",
    "                                        'far_description', 'schedule', 'air_carrier', 'report_status', 'publication_date'], axis=1)"
   ]
  },
  {
   "cell_type": "code",
   "execution_count": 589,
   "metadata": {},
   "outputs": [
    {
     "data": {
      "text/html": [
       "<div>\n",
       "<style scoped>\n",
       "    .dataframe tbody tr th:only-of-type {\n",
       "        vertical-align: middle;\n",
       "    }\n",
       "\n",
       "    .dataframe tbody tr th {\n",
       "        vertical-align: top;\n",
       "    }\n",
       "\n",
       "    .dataframe thead th {\n",
       "        text-align: right;\n",
       "    }\n",
       "</style>\n",
       "<table border=\"1\" class=\"dataframe\">\n",
       "  <thead>\n",
       "    <tr style=\"text-align: right;\">\n",
       "      <th></th>\n",
       "      <th>investigation_type</th>\n",
       "      <th>event_date</th>\n",
       "      <th>country</th>\n",
       "      <th>injury_severity</th>\n",
       "      <th>aircraft_damage</th>\n",
       "      <th>aircraft_category</th>\n",
       "      <th>make</th>\n",
       "      <th>model</th>\n",
       "      <th>amateur_built</th>\n",
       "      <th>number_of_engines</th>\n",
       "      <th>engine_type</th>\n",
       "      <th>purpose_of_flight</th>\n",
       "      <th>total_fatal_injuries</th>\n",
       "      <th>total_serious_injuries</th>\n",
       "      <th>total_minor_injuries</th>\n",
       "      <th>total_uninjured</th>\n",
       "      <th>weather_condition</th>\n",
       "      <th>broad_phase_of_flight</th>\n",
       "    </tr>\n",
       "  </thead>\n",
       "  <tbody>\n",
       "    <tr>\n",
       "      <th>0</th>\n",
       "      <td>Accident</td>\n",
       "      <td>1948-10-24</td>\n",
       "      <td>United States</td>\n",
       "      <td>Fatal(2)</td>\n",
       "      <td>Destroyed</td>\n",
       "      <td>NaN</td>\n",
       "      <td>Stinson</td>\n",
       "      <td>108-3</td>\n",
       "      <td>No</td>\n",
       "      <td>1.0</td>\n",
       "      <td>Reciprocating</td>\n",
       "      <td>Personal</td>\n",
       "      <td>2.0</td>\n",
       "      <td>0.0</td>\n",
       "      <td>0.0</td>\n",
       "      <td>0.0</td>\n",
       "      <td>UNK</td>\n",
       "      <td>Cruise</td>\n",
       "    </tr>\n",
       "    <tr>\n",
       "      <th>1</th>\n",
       "      <td>Accident</td>\n",
       "      <td>1962-07-19</td>\n",
       "      <td>United States</td>\n",
       "      <td>Fatal(4)</td>\n",
       "      <td>Destroyed</td>\n",
       "      <td>NaN</td>\n",
       "      <td>Piper</td>\n",
       "      <td>PA24-180</td>\n",
       "      <td>No</td>\n",
       "      <td>1.0</td>\n",
       "      <td>Reciprocating</td>\n",
       "      <td>Personal</td>\n",
       "      <td>4.0</td>\n",
       "      <td>0.0</td>\n",
       "      <td>0.0</td>\n",
       "      <td>0.0</td>\n",
       "      <td>UNK</td>\n",
       "      <td>Unknown</td>\n",
       "    </tr>\n",
       "    <tr>\n",
       "      <th>2</th>\n",
       "      <td>Accident</td>\n",
       "      <td>1974-08-30</td>\n",
       "      <td>United States</td>\n",
       "      <td>Fatal(3)</td>\n",
       "      <td>Destroyed</td>\n",
       "      <td>NaN</td>\n",
       "      <td>Cessna</td>\n",
       "      <td>172M</td>\n",
       "      <td>No</td>\n",
       "      <td>1.0</td>\n",
       "      <td>Reciprocating</td>\n",
       "      <td>Personal</td>\n",
       "      <td>3.0</td>\n",
       "      <td>NaN</td>\n",
       "      <td>NaN</td>\n",
       "      <td>NaN</td>\n",
       "      <td>IMC</td>\n",
       "      <td>Cruise</td>\n",
       "    </tr>\n",
       "    <tr>\n",
       "      <th>3</th>\n",
       "      <td>Accident</td>\n",
       "      <td>1977-06-19</td>\n",
       "      <td>United States</td>\n",
       "      <td>Fatal(2)</td>\n",
       "      <td>Destroyed</td>\n",
       "      <td>NaN</td>\n",
       "      <td>Rockwell</td>\n",
       "      <td>112</td>\n",
       "      <td>No</td>\n",
       "      <td>1.0</td>\n",
       "      <td>Reciprocating</td>\n",
       "      <td>Personal</td>\n",
       "      <td>2.0</td>\n",
       "      <td>0.0</td>\n",
       "      <td>0.0</td>\n",
       "      <td>0.0</td>\n",
       "      <td>IMC</td>\n",
       "      <td>Cruise</td>\n",
       "    </tr>\n",
       "    <tr>\n",
       "      <th>4</th>\n",
       "      <td>Accident</td>\n",
       "      <td>1979-08-02</td>\n",
       "      <td>United States</td>\n",
       "      <td>Fatal(1)</td>\n",
       "      <td>Destroyed</td>\n",
       "      <td>NaN</td>\n",
       "      <td>Cessna</td>\n",
       "      <td>501</td>\n",
       "      <td>No</td>\n",
       "      <td>NaN</td>\n",
       "      <td>NaN</td>\n",
       "      <td>Personal</td>\n",
       "      <td>1.0</td>\n",
       "      <td>2.0</td>\n",
       "      <td>NaN</td>\n",
       "      <td>0.0</td>\n",
       "      <td>VMC</td>\n",
       "      <td>Approach</td>\n",
       "    </tr>\n",
       "  </tbody>\n",
       "</table>\n",
       "</div>"
      ],
      "text/plain": [
       "  investigation_type  event_date        country injury_severity  \\\n",
       "0           Accident  1948-10-24  United States        Fatal(2)   \n",
       "1           Accident  1962-07-19  United States        Fatal(4)   \n",
       "2           Accident  1974-08-30  United States        Fatal(3)   \n",
       "3           Accident  1977-06-19  United States        Fatal(2)   \n",
       "4           Accident  1979-08-02  United States        Fatal(1)   \n",
       "\n",
       "  aircraft_damage aircraft_category      make     model amateur_built  \\\n",
       "0       Destroyed               NaN   Stinson     108-3            No   \n",
       "1       Destroyed               NaN     Piper  PA24-180            No   \n",
       "2       Destroyed               NaN    Cessna      172M            No   \n",
       "3       Destroyed               NaN  Rockwell       112            No   \n",
       "4       Destroyed               NaN    Cessna       501            No   \n",
       "\n",
       "   number_of_engines    engine_type purpose_of_flight  total_fatal_injuries  \\\n",
       "0                1.0  Reciprocating          Personal                   2.0   \n",
       "1                1.0  Reciprocating          Personal                   4.0   \n",
       "2                1.0  Reciprocating          Personal                   3.0   \n",
       "3                1.0  Reciprocating          Personal                   2.0   \n",
       "4                NaN            NaN          Personal                   1.0   \n",
       "\n",
       "   total_serious_injuries  total_minor_injuries  total_uninjured  \\\n",
       "0                     0.0                   0.0              0.0   \n",
       "1                     0.0                   0.0              0.0   \n",
       "2                     NaN                   NaN              NaN   \n",
       "3                     0.0                   0.0              0.0   \n",
       "4                     2.0                   NaN              0.0   \n",
       "\n",
       "  weather_condition broad_phase_of_flight  \n",
       "0               UNK                Cruise  \n",
       "1               UNK               Unknown  \n",
       "2               IMC                Cruise  \n",
       "3               IMC                Cruise  \n",
       "4               VMC              Approach  "
      ]
     },
     "execution_count": 589,
     "metadata": {},
     "output_type": "execute_result"
    }
   ],
   "source": [
    "aviation_df.head()"
   ]
  },
  {
   "cell_type": "code",
   "execution_count": 590,
   "metadata": {},
   "outputs": [
    {
     "data": {
      "text/plain": [
       "investigation_type            0\n",
       "event_date                    0\n",
       "country                     226\n",
       "injury_severity            1000\n",
       "aircraft_damage            3194\n",
       "aircraft_category         56602\n",
       "make                         63\n",
       "model                        92\n",
       "amateur_built               102\n",
       "number_of_engines          6084\n",
       "engine_type                7077\n",
       "purpose_of_flight          6192\n",
       "total_fatal_injuries      11401\n",
       "total_serious_injuries    12510\n",
       "total_minor_injuries      11933\n",
       "total_uninjured            5912\n",
       "weather_condition          4492\n",
       "broad_phase_of_flight     27165\n",
       "dtype: int64"
      ]
     },
     "execution_count": 590,
     "metadata": {},
     "output_type": "execute_result"
    }
   ],
   "source": [
    "# get the columns and the number of null values in each column\n",
    "aviation_df.isnull().sum()"
   ]
  },
  {
   "cell_type": "markdown",
   "metadata": {},
   "source": [
    "Now, columns are dropped, I deal with null values in each column. "
   ]
  },
  {
   "cell_type": "markdown",
   "metadata": {},
   "source": [
    "## Dealing with missing values\n",
    "\n",
    "* I checked columns for proportion of missing values and value counts of each unique value to decide on missing values.\n"
   ]
  },
  {
   "cell_type": "code",
   "execution_count": 592,
   "metadata": {},
   "outputs": [],
   "source": [
    "\"\"\"\n",
    "* I checked columns for proportion of missing values and value counts of each unique value to decide on missing values.\n",
    "* Some columns are missing insignicant number of values, dropping this missing values will not affect the dataset.\n",
    "\"\"\"\n",
    "#code to drop value missing rows\n",
    "aviation_df = aviation_df.dropna(subset=['country', 'injury_severity', 'aircraft_damage','make', 'model','amateur_built'])"
   ]
  },
  {
   "cell_type": "code",
   "execution_count": 593,
   "metadata": {},
   "outputs": [
    {
     "data": {
      "text/plain": [
       "investigation_type            0\n",
       "event_date                    0\n",
       "country                       0\n",
       "injury_severity               0\n",
       "aircraft_damage               0\n",
       "aircraft_category         54522\n",
       "make                          0\n",
       "model                         0\n",
       "amateur_built                 0\n",
       "number_of_engines          4451\n",
       "engine_type                5343\n",
       "purpose_of_flight          4032\n",
       "total_fatal_injuries      10843\n",
       "total_serious_injuries    12089\n",
       "total_minor_injuries      11377\n",
       "total_uninjured            5737\n",
       "weather_condition          2825\n",
       "broad_phase_of_flight     24822\n",
       "dtype: int64"
      ]
     },
     "execution_count": 593,
     "metadata": {},
     "output_type": "execute_result"
    }
   ],
   "source": [
    "# uppdate the list of null values\n",
    "aviation_df.isnull().sum()"
   ]
  },
  {
   "cell_type": "markdown",
   "metadata": {},
   "source": [
    "\n",
    "**I replace missing values in categorical data columns with the most common values or with 'Unknown'**\n",
    "\n",
    "I go through the `value_counts` of unique values of each column and decide how to deal with missing values.\n",
    "\n",
    "I dropped aircraft_catrgory column since it conists more than 64 percent of missing values.\n"
   ]
  },
  {
   "cell_type": "code",
   "execution_count": 594,
   "metadata": {},
   "outputs": [],
   "source": [
    "#drop aircraft column\n",
    "aviation_df = aviation_df.drop('aircraft_category', axis=1)"
   ]
  },
  {
   "cell_type": "markdown",
   "metadata": {},
   "source": [
    "***\n",
    "Now I deal with numerical columns with missing values\n",
    "\n",
    "Replace missing values, in the columns with float datatype, with the **median** values\n",
    "\n",
    "***"
   ]
  },
  {
   "cell_type": "code",
   "execution_count": 595,
   "metadata": {},
   "outputs": [
    {
     "data": {
      "text/plain": [
       "1.0    68973\n",
       "2.0     9690\n",
       "0.0     1088\n",
       "3.0      321\n",
       "4.0      304\n",
       "8.0        2\n",
       "6.0        1\n",
       "Name: number_of_engines, dtype: int64"
      ]
     },
     "execution_count": 595,
     "metadata": {},
     "output_type": "execute_result"
    }
   ],
   "source": [
    "#first, get value_counts of \"number_of_engines\"\n",
    "aviation_df['number_of_engines'].value_counts()"
   ]
  },
  {
   "cell_type": "code",
   "execution_count": 596,
   "metadata": {},
   "outputs": [],
   "source": [
    "# replace the NaN values with the most common value 1.0 \n",
    "aviation_df['number_of_engines'] = aviation_df['number_of_engines'].fillna(1.0)\n",
    "\"\"\" \n",
    "# Engine number is not going to be used in numerical equations rather considered as a category\n",
    "#The nmber_of_engines column must be changed to string type insted (first it is changed in to intiger to remove decimals)\n",
    "\"\"\"\n",
    "#change data type to object/string\n",
    "aviation_df['number_of_engines'] = aviation_df['number_of_engines'].astype(int).astype(str)"
   ]
  },
  {
   "cell_type": "markdown",
   "metadata": {},
   "source": [
    "* For all the other float data type columns, NaN values are replaced with the Median value of the column"
   ]
  },
  {
   "cell_type": "code",
   "execution_count": 598,
   "metadata": {},
   "outputs": [],
   "source": [
    "# Code to repalce values with median value\n",
    "aviation_df = aviation_df.fillna(aviation_df.median())"
   ]
  },
  {
   "cell_type": "code",
   "execution_count": 599,
   "metadata": {},
   "outputs": [
    {
     "data": {
      "text/plain": [
       "investigation_type            0\n",
       "event_date                    0\n",
       "country                       0\n",
       "injury_severity               0\n",
       "aircraft_damage               0\n",
       "make                          0\n",
       "model                         0\n",
       "amateur_built                 0\n",
       "number_of_engines             0\n",
       "engine_type                5343\n",
       "purpose_of_flight          4032\n",
       "total_fatal_injuries          0\n",
       "total_serious_injuries        0\n",
       "total_minor_injuries          0\n",
       "total_uninjured               0\n",
       "weather_condition          2825\n",
       "broad_phase_of_flight     24822\n",
       "dtype: int64"
      ]
     },
     "execution_count": 599,
     "metadata": {},
     "output_type": "execute_result"
    }
   ],
   "source": [
    "#update the data on null values\n",
    "aviation_df.isnull().sum()"
   ]
  },
  {
   "cell_type": "code",
   "execution_count": 600,
   "metadata": {},
   "outputs": [
    {
     "data": {
      "text/plain": [
       "Reciprocating      69017\n",
       "Turbo Shaft         3433\n",
       "Turbo Prop          3123\n",
       "Unknown             1802\n",
       "Turbo Fan           1547\n",
       "Turbo Jet            535\n",
       "None                  16\n",
       "Electric               8\n",
       "NONE                   2\n",
       "Hybrid Rocket          1\n",
       "UNK                    1\n",
       "Geared Turbofan        1\n",
       "LR                     1\n",
       "Name: engine_type, dtype: int64"
      ]
     },
     "execution_count": 600,
     "metadata": {},
     "output_type": "execute_result"
    }
   ],
   "source": [
    "#value counts for engine type\n",
    "aviation_df['engine_type'].value_counts()"
   ]
  },
  {
   "cell_type": "code",
   "execution_count": 601,
   "metadata": {},
   "outputs": [],
   "source": [
    "#Column -'engine_type'\n",
    "\"\"\"\n",
    "replace values 'None', 'NONE', 'UNK' which are the same but considered different to 'Unknown'\n",
    "strip and replace unwanted characters for uniformity\n",
    "replace null values with the most common category 'Reciprocating'\n",
    "\n",
    "\"\"\"\n",
    "\n",
    "aviation_df['engine_type'].replace(['None', 'NONE', 'UNK'], 'Unknown', inplace=True)\n",
    "\n",
    "#strip and replace unwanted characters for consistancy\n",
    "aviation_df['engine_type'] = aviation_df['engine_type'].str.title().str.replace(' ', '_')\n",
    "\n",
    "#code to fill in with the most common value - 'Reciprocating'\n",
    "aviation_df['engine_type'] = aviation_df['engine_type'].fillna('Reciprocating')\n"
   ]
  },
  {
   "cell_type": "code",
   "execution_count": 602,
   "metadata": {},
   "outputs": [
    {
     "data": {
      "text/plain": [
       "Personal                     48975\n",
       "Instructional                10506\n",
       "Unknown                       5861\n",
       "Aerial Application            4695\n",
       "Business                      3908\n",
       "Positioning                   1584\n",
       "Other Work Use                1203\n",
       "Ferry                          801\n",
       "Aerial Observation             766\n",
       "Public Aircraft                705\n",
       "Executive/corporate            518\n",
       "Flight Test                    391\n",
       "Skydiving                      178\n",
       "External Load                  115\n",
       "Public Aircraft - Federal      102\n",
       "Banner Tow                     101\n",
       "Air Race show                   90\n",
       "Public Aircraft - Local         70\n",
       "Public Aircraft - State         60\n",
       "Air Race/show                   56\n",
       "Glider Tow                      53\n",
       "Firefighting                    38\n",
       "Air Drop                        11\n",
       "ASHO                             6\n",
       "PUBS                             4\n",
       "PUBL                             1\n",
       "Name: purpose_of_flight, dtype: int64"
      ]
     },
     "execution_count": 602,
     "metadata": {},
     "output_type": "execute_result"
    }
   ],
   "source": [
    "#value counts for purpose of flight\n",
    "aviation_df['purpose_of_flight'].value_counts()"
   ]
  },
  {
   "cell_type": "code",
   "execution_count": 603,
   "metadata": {},
   "outputs": [],
   "source": [
    "#strip and replace for uniformity and to avoid different naming of the same variable\n",
    "aviation_df['purpose_of_flight'] = aviation_df['purpose_of_flight'].str.strip().str.replace('/','_').str.replace(' - ','_').str.replace(' ', '_')"
   ]
  },
  {
   "cell_type": "code",
   "execution_count": 604,
   "metadata": {},
   "outputs": [],
   "source": [
    "#Column_name : 'Purpose of flight'\n",
    "#code to fill in with value - 'Unknown' - which is already in the list\n",
    "aviation_df['purpose_of_flight'] = aviation_df['purpose_of_flight'].fillna('Unknown')"
   ]
  },
  {
   "cell_type": "code",
   "execution_count": 605,
   "metadata": {},
   "outputs": [
    {
     "data": {
      "text/plain": [
       "VMC    75291\n",
       "IMC     5736\n",
       "UNK      784\n",
       "Unk      194\n",
       "Name: weather_condition, dtype: int64"
      ]
     },
     "execution_count": 605,
     "metadata": {},
     "output_type": "execute_result"
    }
   ],
   "source": [
    "#value counts for weather_condtion\n",
    "aviation_df['weather_condition'].value_counts()"
   ]
  },
  {
   "cell_type": "code",
   "execution_count": 606,
   "metadata": {},
   "outputs": [],
   "source": [
    "\"\"\" \n",
    "Column_name : 'Weather Condition'\n",
    "Unk and UNK must be formated the to represent the same value - Unknown\n",
    "\"\"\"\n",
    "\n",
    "#code to fill in with common value 'VMC' \n",
    "aviation_df['weather_condition'] = aviation_df['weather_condition'].str.strip().str.upper()\n",
    "aviation_df['weather_condition'] = aviation_df['weather_condition'].fillna('VMC')"
   ]
  },
  {
   "cell_type": "code",
   "execution_count": 607,
   "metadata": {},
   "outputs": [
    {
     "data": {
      "text/plain": [
       "Landing        15147\n",
       "Takeoff        12288\n",
       "Cruise          9886\n",
       "Maneuvering     8073\n",
       "Approach        6406\n",
       "Climb           1903\n",
       "Taxi            1853\n",
       "Descent         1712\n",
       "Go-around       1344\n",
       "Standing         745\n",
       "Unknown          538\n",
       "Other            113\n",
       "Name: broad_phase_of_flight, dtype: int64"
      ]
     },
     "execution_count": 607,
     "metadata": {},
     "output_type": "execute_result"
    }
   ],
   "source": [
    "#value counts for broad_phase_of_flight\n",
    "aviation_df['broad_phase_of_flight'].value_counts()"
   ]
  },
  {
   "cell_type": "code",
   "execution_count": 608,
   "metadata": {},
   "outputs": [],
   "source": [
    "#Column_name : 'broad_phase_of_flight'\n",
    "#code to fill in with common value 'Unknown'\n",
    "aviation_df['broad_phase_of_flight'] = aviation_df['broad_phase_of_flight'].fillna('Unknown')"
   ]
  },
  {
   "cell_type": "code",
   "execution_count": 609,
   "metadata": {},
   "outputs": [],
   "source": [
    "#strip and replace categorical value strings which is not in consistent formating\n",
    "aviation_df['make'] = aviation_df['make'].str.strip().str.lower().str.replace(' ', '_')\n",
    "aviation_df['model'] = aviation_df['model'].str.strip().str.lower().str.replace(' ', '_')"
   ]
  },
  {
   "cell_type": "markdown",
   "metadata": {},
   "source": [
    "\n",
    "\n",
    "* Fom the 'event_date' column, I extract 'event_year' to a new column which later be used to see the trend in accidents over the years."
   ]
  },
  {
   "cell_type": "code",
   "execution_count": 610,
   "metadata": {},
   "outputs": [],
   "source": [
    "# the event_date column changed to datetime format first\n",
    "aviation_df['event_date'] = pd.to_datetime(aviation_df['event_date'])\n",
    "\n",
    "# extract the year from the event_date\n",
    "aviation_df['event_year'] = aviation_df['event_date'].dt.year.astype(str)"
   ]
  },
  {
   "cell_type": "markdown",
   "metadata": {},
   "source": [
    "***\n",
    "* I, once again, check for update on missing values.\n",
    "***"
   ]
  },
  {
   "cell_type": "code",
   "execution_count": 611,
   "metadata": {},
   "outputs": [
    {
     "data": {
      "text/plain": [
       "investigation_type        0\n",
       "event_date                0\n",
       "country                   0\n",
       "injury_severity           0\n",
       "aircraft_damage           0\n",
       "make                      0\n",
       "model                     0\n",
       "amateur_built             0\n",
       "number_of_engines         0\n",
       "engine_type               0\n",
       "purpose_of_flight         0\n",
       "total_fatal_injuries      0\n",
       "total_serious_injuries    0\n",
       "total_minor_injuries      0\n",
       "total_uninjured           0\n",
       "weather_condition         0\n",
       "broad_phase_of_flight     0\n",
       "event_year                0\n",
       "dtype: int64"
      ]
     },
     "execution_count": 611,
     "metadata": {},
     "output_type": "execute_result"
    }
   ],
   "source": [
    "aviation_df.isnull().sum()"
   ]
  },
  {
   "cell_type": "markdown",
   "metadata": {},
   "source": [
    "\n",
    "\n",
    "* Now all missing values are cleared, I add new column of 'total_injuries' putting together 'total_fatal_injuries' and 'total_serious_injuries' and excluding total_minor injuries because of their relative importance.\n"
   ]
  },
  {
   "cell_type": "code",
   "execution_count": 612,
   "metadata": {},
   "outputs": [],
   "source": [
    "# create new column 'total_injuries'\n",
    "aviation_df['total_injuries'] = aviation_df['total_fatal_injuries'] + aviation_df['total_serious_injuries']"
   ]
  },
  {
   "cell_type": "code",
   "execution_count": 613,
   "metadata": {},
   "outputs": [],
   "source": [
    "#store the cleaned data in a new valriable cleaned_aviation_df\n",
    "cleaned_aviation_df = aviation_df"
   ]
  },
  {
   "cell_type": "code",
   "execution_count": 614,
   "metadata": {},
   "outputs": [],
   "source": [
    "# Save cleaned dataset as csv\n",
    "cleaned_aviation_df.to_csv('./data/cleaned_aviation_df.csv')"
   ]
  },
  {
   "cell_type": "markdown",
   "metadata": {},
   "source": [
    "## Data Analysis"
   ]
  },
  {
   "cell_type": "code",
   "execution_count": 615,
   "metadata": {},
   "outputs": [
    {
     "data": {
      "text/html": [
       "<div>\n",
       "<style scoped>\n",
       "    .dataframe tbody tr th:only-of-type {\n",
       "        vertical-align: middle;\n",
       "    }\n",
       "\n",
       "    .dataframe tbody tr th {\n",
       "        vertical-align: top;\n",
       "    }\n",
       "\n",
       "    .dataframe thead th {\n",
       "        text-align: right;\n",
       "    }\n",
       "</style>\n",
       "<table border=\"1\" class=\"dataframe\">\n",
       "  <thead>\n",
       "    <tr style=\"text-align: right;\">\n",
       "      <th></th>\n",
       "      <th>total_fatal_injuries</th>\n",
       "      <th>total_serious_injuries</th>\n",
       "      <th>total_minor_injuries</th>\n",
       "      <th>total_uninjured</th>\n",
       "      <th>total_injuries</th>\n",
       "    </tr>\n",
       "  </thead>\n",
       "  <tbody>\n",
       "    <tr>\n",
       "      <th>count</th>\n",
       "      <td>84830.000000</td>\n",
       "      <td>84830.000000</td>\n",
       "      <td>84830.000000</td>\n",
       "      <td>84830.000000</td>\n",
       "      <td>84830.000000</td>\n",
       "    </tr>\n",
       "    <tr>\n",
       "      <th>mean</th>\n",
       "      <td>0.569457</td>\n",
       "      <td>0.233325</td>\n",
       "      <td>0.302322</td>\n",
       "      <td>3.280019</td>\n",
       "      <td>0.802782</td>\n",
       "    </tr>\n",
       "    <tr>\n",
       "      <th>std</th>\n",
       "      <td>4.909513</td>\n",
       "      <td>1.399208</td>\n",
       "      <td>2.082244</td>\n",
       "      <td>20.318758</td>\n",
       "      <td>5.263598</td>\n",
       "    </tr>\n",
       "    <tr>\n",
       "      <th>min</th>\n",
       "      <td>0.000000</td>\n",
       "      <td>0.000000</td>\n",
       "      <td>0.000000</td>\n",
       "      <td>0.000000</td>\n",
       "      <td>0.000000</td>\n",
       "    </tr>\n",
       "    <tr>\n",
       "      <th>25%</th>\n",
       "      <td>0.000000</td>\n",
       "      <td>0.000000</td>\n",
       "      <td>0.000000</td>\n",
       "      <td>0.000000</td>\n",
       "      <td>0.000000</td>\n",
       "    </tr>\n",
       "    <tr>\n",
       "      <th>50%</th>\n",
       "      <td>0.000000</td>\n",
       "      <td>0.000000</td>\n",
       "      <td>0.000000</td>\n",
       "      <td>1.000000</td>\n",
       "      <td>0.000000</td>\n",
       "    </tr>\n",
       "    <tr>\n",
       "      <th>75%</th>\n",
       "      <td>0.000000</td>\n",
       "      <td>0.000000</td>\n",
       "      <td>0.000000</td>\n",
       "      <td>2.000000</td>\n",
       "      <td>1.000000</td>\n",
       "    </tr>\n",
       "    <tr>\n",
       "      <th>max</th>\n",
       "      <td>295.000000</td>\n",
       "      <td>161.000000</td>\n",
       "      <td>380.000000</td>\n",
       "      <td>699.000000</td>\n",
       "      <td>295.000000</td>\n",
       "    </tr>\n",
       "  </tbody>\n",
       "</table>\n",
       "</div>"
      ],
      "text/plain": [
       "       total_fatal_injuries  total_serious_injuries  total_minor_injuries  \\\n",
       "count          84830.000000            84830.000000          84830.000000   \n",
       "mean               0.569457                0.233325              0.302322   \n",
       "std                4.909513                1.399208              2.082244   \n",
       "min                0.000000                0.000000              0.000000   \n",
       "25%                0.000000                0.000000              0.000000   \n",
       "50%                0.000000                0.000000              0.000000   \n",
       "75%                0.000000                0.000000              0.000000   \n",
       "max              295.000000              161.000000            380.000000   \n",
       "\n",
       "       total_uninjured  total_injuries  \n",
       "count     84830.000000    84830.000000  \n",
       "mean          3.280019        0.802782  \n",
       "std          20.318758        5.263598  \n",
       "min           0.000000        0.000000  \n",
       "25%           0.000000        0.000000  \n",
       "50%           1.000000        0.000000  \n",
       "75%           2.000000        1.000000  \n",
       "max         699.000000      295.000000  "
      ]
     },
     "execution_count": 615,
     "metadata": {},
     "output_type": "execute_result"
    }
   ],
   "source": [
    "# get summary statistics\n",
    "cleaned_aviation_df.describe()"
   ]
  },
  {
   "cell_type": "markdown",
   "metadata": {},
   "source": [
    "### Accidents over the years\n",
    "First, I check the trend of aircraft accidents over the years"
   ]
  },
  {
   "cell_type": "code",
   "execution_count": 616,
   "metadata": {},
   "outputs": [
    {
     "data": {
      "image/png": "[encoded data removed]",
      "text/plain": [
       "<Figure size 864x432 with 1 Axes>"
      ]
     },
     "metadata": {
      "needs_background": "light"
     },
     "output_type": "display_data"
    }
   ],
   "source": [
    "yearly_data = cleaned_aviation_df['event_year'].value_counts()\n",
    "\n",
    "# Create plot\n",
    "plt.figure(figsize=(12, 6))\n",
    "yearly_data.plot(kind='bar')\n",
    "plt.xlabel('Year')\n",
    "plt.ylabel('Number of Accidents')\n",
    "plt.title('Number of Accidents Over the Years')\n",
    "plt.show()\n"
   ]
  },
  {
   "cell_type": "markdown",
   "metadata": {},
   "source": [
    "* The number of accidents and incidents decreased significantly over the the years."
   ]
  },
  {
   "cell_type": "markdown",
   "metadata": {},
   "source": [
    "## Aircraft Engine type and number\n",
    "\n",
    "This analysis tries to find out how aircrats number and tyepes of engines are related to the number\n",
    "\n",
    "of accidents and to the level of injuries and damge to aircraft \n",
    "\n",
    "I use the value counts of some of the main variables for vizualization of which ones involved more in accidents\n"
   ]
  },
  {
   "cell_type": "markdown",
   "metadata": {},
   "source": [
    "### Engine Type\n",
    "#### Number of accidents by Engine Types\n",
    "\n",
    "I find out how the rumber of accidents relate to engine type of aircrafts"
   ]
  },
  {
   "cell_type": "code",
   "execution_count": 618,
   "metadata": {
    "scrolled": true
   },
   "outputs": [
    {
     "data": {
      "image/png": "[encoded data removed]",
      "text/plain": [
       "<Figure size 720x432 with 1 Axes>"
      ]
     },
     "metadata": {
      "needs_background": "light"
     },
     "output_type": "display_data"
    }
   ],
   "source": [
    "#Type of engine\n",
    "# used .value_counts() to count the number of accidents\n",
    "engines_type_data = cleaned_aviation_df['engine_type'].value_counts()\n",
    "\n",
    "# Create plot\n",
    "plt.figure(figsize=(10, 6))\n",
    "engines_type_data.plot(kind='bar')\n",
    "plt.xlabel('Engine type')\n",
    "plt.ylabel('Number of Accidents')\n",
    "plt.title('Number of Accidents vs Engine Type of Aircrats')\n",
    "plt.show()\n"
   ]
  },
  {
   "cell_type": "markdown",
   "metadata": {},
   "source": [
    "### Number of Engines\n",
    "#### Number of accidents by Engine Number\n",
    "\n",
    "I find out how the rumber of accidents relate to number of engines of aircrafts\n"
   ]
  },
  {
   "cell_type": "code",
   "execution_count": 619,
   "metadata": {},
   "outputs": [
    {
     "data": {
      "image/png": "[encoded data removed]",
      "text/plain": [
       "<Figure size 720x432 with 1 Axes>"
      ]
     },
     "metadata": {
      "needs_background": "light"
     },
     "output_type": "display_data"
    }
   ],
   "source": [
    "#Number of engines\n",
    "# used .value_counts() to count the number of accidents\n",
    "engines_num_data = cleaned_aviation_df['number_of_engines'].value_counts()\n",
    "\n",
    "# Create plot\n",
    "plt.figure(figsize=(10, 6))\n",
    "engines_num_data.plot(kind='bar')\n",
    "plt.xlabel('Number of Engines')\n",
    "plt.ylabel('Number of Accidents')\n",
    "plt.title('Number of Accidents vs Number of Engines of Aircrafts')\n",
    "plt.show()\n"
   ]
  },
  {
   "cell_type": "markdown",
   "metadata": {},
   "source": [
    "* As engine number of aircrafts have increases the number of accidents decreases. \n",
    "* Aircrafts with some engine types such as Reciprocating are involved in the highest number of accidents.\n",
    "  "
   ]
  },
  {
   "cell_type": "markdown",
   "metadata": {},
   "source": [
    "### Groupby Enigine Type and Number \n",
    "#### `Total injuries` by `Number of Engines` and `Engine Types`\n",
    "I find out how the rumber of accidents/total injuries relate to combination of the two factors"
   ]
  },
  {
   "cell_type": "code",
   "execution_count": 620,
   "metadata": {},
   "outputs": [
    {
     "data": {
      "text/html": [
       "<div>\n",
       "<style scoped>\n",
       "    .dataframe tbody tr th:only-of-type {\n",
       "        vertical-align: middle;\n",
       "    }\n",
       "\n",
       "    .dataframe tbody tr th {\n",
       "        vertical-align: top;\n",
       "    }\n",
       "\n",
       "    .dataframe thead th {\n",
       "        text-align: right;\n",
       "    }\n",
       "</style>\n",
       "<table border=\"1\" class=\"dataframe\">\n",
       "  <thead>\n",
       "    <tr style=\"text-align: right;\">\n",
       "      <th></th>\n",
       "      <th></th>\n",
       "      <th>total_injuries</th>\n",
       "    </tr>\n",
       "    <tr>\n",
       "      <th>number_of_engines</th>\n",
       "      <th>engine_type</th>\n",
       "      <th></th>\n",
       "    </tr>\n",
       "  </thead>\n",
       "  <tbody>\n",
       "    <tr>\n",
       "      <th rowspan=\"2\" valign=\"top\">0</th>\n",
       "      <th>Reciprocating</th>\n",
       "      <td>468.0</td>\n",
       "    </tr>\n",
       "    <tr>\n",
       "      <th>Unknown</th>\n",
       "      <td>620.0</td>\n",
       "    </tr>\n",
       "    <tr>\n",
       "      <th rowspan=\"8\" valign=\"top\">1</th>\n",
       "      <th>Electric</th>\n",
       "      <td>5.0</td>\n",
       "    </tr>\n",
       "    <tr>\n",
       "      <th>Hybrid_Rocket</th>\n",
       "      <td>1.0</td>\n",
       "    </tr>\n",
       "    <tr>\n",
       "      <th>Reciprocating</th>\n",
       "      <td>67566.0</td>\n",
       "    </tr>\n",
       "    <tr>\n",
       "      <th>Turbo_Fan</th>\n",
       "      <td>74.0</td>\n",
       "    </tr>\n",
       "    <tr>\n",
       "      <th>Turbo_Jet</th>\n",
       "      <td>106.0</td>\n",
       "    </tr>\n",
       "    <tr>\n",
       "      <th>Turbo_Prop</th>\n",
       "      <td>1515.0</td>\n",
       "    </tr>\n",
       "    <tr>\n",
       "      <th>Turbo_Shaft</th>\n",
       "      <td>2971.0</td>\n",
       "    </tr>\n",
       "    <tr>\n",
       "      <th>Unknown</th>\n",
       "      <td>1186.0</td>\n",
       "    </tr>\n",
       "    <tr>\n",
       "      <th rowspan=\"7\" valign=\"top\">2</th>\n",
       "      <th>Geared_Turbofan</th>\n",
       "      <td>1.0</td>\n",
       "    </tr>\n",
       "    <tr>\n",
       "      <th>Reciprocating</th>\n",
       "      <td>6238.0</td>\n",
       "    </tr>\n",
       "    <tr>\n",
       "      <th>Turbo_Fan</th>\n",
       "      <td>1073.0</td>\n",
       "    </tr>\n",
       "    <tr>\n",
       "      <th>Turbo_Jet</th>\n",
       "      <td>330.0</td>\n",
       "    </tr>\n",
       "    <tr>\n",
       "      <th>Turbo_Prop</th>\n",
       "      <td>1576.0</td>\n",
       "    </tr>\n",
       "    <tr>\n",
       "      <th>Turbo_Shaft</th>\n",
       "      <td>461.0</td>\n",
       "    </tr>\n",
       "    <tr>\n",
       "      <th>Unknown</th>\n",
       "      <td>11.0</td>\n",
       "    </tr>\n",
       "    <tr>\n",
       "      <th rowspan=\"4\" valign=\"top\">3</th>\n",
       "      <th>Reciprocating</th>\n",
       "      <td>15.0</td>\n",
       "    </tr>\n",
       "    <tr>\n",
       "      <th>Turbo_Fan</th>\n",
       "      <td>238.0</td>\n",
       "    </tr>\n",
       "    <tr>\n",
       "      <th>Turbo_Jet</th>\n",
       "      <td>67.0</td>\n",
       "    </tr>\n",
       "    <tr>\n",
       "      <th>Turbo_Shaft</th>\n",
       "      <td>1.0</td>\n",
       "    </tr>\n",
       "    <tr>\n",
       "      <th rowspan=\"6\" valign=\"top\">4</th>\n",
       "      <th>Electric</th>\n",
       "      <td>2.0</td>\n",
       "    </tr>\n",
       "    <tr>\n",
       "      <th>Reciprocating</th>\n",
       "      <td>72.0</td>\n",
       "    </tr>\n",
       "    <tr>\n",
       "      <th>Turbo_Fan</th>\n",
       "      <td>162.0</td>\n",
       "    </tr>\n",
       "    <tr>\n",
       "      <th>Turbo_Jet</th>\n",
       "      <td>32.0</td>\n",
       "    </tr>\n",
       "    <tr>\n",
       "      <th>Turbo_Prop</th>\n",
       "      <td>32.0</td>\n",
       "    </tr>\n",
       "    <tr>\n",
       "      <th>Unknown</th>\n",
       "      <td>4.0</td>\n",
       "    </tr>\n",
       "    <tr>\n",
       "      <th>6</th>\n",
       "      <th>Reciprocating</th>\n",
       "      <td>1.0</td>\n",
       "    </tr>\n",
       "    <tr>\n",
       "      <th rowspan=\"2\" valign=\"top\">8</th>\n",
       "      <th>Electric</th>\n",
       "      <td>1.0</td>\n",
       "    </tr>\n",
       "    <tr>\n",
       "      <th>Lr</th>\n",
       "      <td>1.0</td>\n",
       "    </tr>\n",
       "  </tbody>\n",
       "</table>\n",
       "</div>"
      ],
      "text/plain": [
       "                                   total_injuries\n",
       "number_of_engines engine_type                    \n",
       "0                 Reciprocating             468.0\n",
       "                  Unknown                   620.0\n",
       "1                 Electric                    5.0\n",
       "                  Hybrid_Rocket               1.0\n",
       "                  Reciprocating           67566.0\n",
       "                  Turbo_Fan                  74.0\n",
       "                  Turbo_Jet                 106.0\n",
       "                  Turbo_Prop               1515.0\n",
       "                  Turbo_Shaft              2971.0\n",
       "                  Unknown                  1186.0\n",
       "2                 Geared_Turbofan             1.0\n",
       "                  Reciprocating            6238.0\n",
       "                  Turbo_Fan                1073.0\n",
       "                  Turbo_Jet                 330.0\n",
       "                  Turbo_Prop               1576.0\n",
       "                  Turbo_Shaft               461.0\n",
       "                  Unknown                    11.0\n",
       "3                 Reciprocating              15.0\n",
       "                  Turbo_Fan                 238.0\n",
       "                  Turbo_Jet                  67.0\n",
       "                  Turbo_Shaft                 1.0\n",
       "4                 Electric                    2.0\n",
       "                  Reciprocating              72.0\n",
       "                  Turbo_Fan                 162.0\n",
       "                  Turbo_Jet                  32.0\n",
       "                  Turbo_Prop                 32.0\n",
       "                  Unknown                     4.0\n",
       "6                 Reciprocating               1.0\n",
       "8                 Electric                    1.0\n",
       "                  Lr                          1.0"
      ]
     },
     "execution_count": 620,
     "metadata": {},
     "output_type": "execute_result"
    }
   ],
   "source": [
    "# groupby 'engine_type' and 'number of engines' and aggregate them to get 'total-injuries'\n",
    "grouped_by_type_num_engine = cleaned_aviation_df.groupby(by=['number_of_engines', 'engine_type'])[['total_injuries']].agg(len)\n",
    "grouped_by_type_num_engine"
   ]
  },
  {
   "cell_type": "markdown",
   "metadata": {},
   "source": [
    "* Aircrafts with certain engine types are more involved in accidents than the others. This mainly refers to engine type `Reciprocating` \n",
    "* It also shows that as the number of engines the aircrafts have increases the number of accidents and dncreases.\n",
    "* Aircrafts with a combination of 1 engine and of `Reciprocating` type are highly involved in accidents with large number of injuries than the other combiations"
   ]
  },
  {
   "cell_type": "markdown",
   "metadata": {},
   "source": [
    "## Make and Model"
   ]
  },
  {
   "cell_type": "markdown",
   "metadata": {},
   "source": [
    "### Make of Aircrafts\n",
    "I figure out how Make of aircrafts relates to number of accidents."
   ]
  },
  {
   "cell_type": "code",
   "execution_count": 621,
   "metadata": {},
   "outputs": [
    {
     "data": {
      "image/png": "[encoded data removed]",
      "text/plain": [
       "<Figure size 864x576 with 1 Axes>"
      ]
     },
     "metadata": {
      "needs_background": "light"
     },
     "output_type": "display_data"
    }
   ],
   "source": [
    "# use .value_counts to get the top_20_Make_accidents becouse of large number of makes\n",
    "top_20_make_accidents = cleaned_aviation_df['make'].value_counts().head(20)\n",
    "\n",
    "# Create plot\n",
    "plt.figure(figsize=(12, 8))\n",
    "plt.plot(top_20_make_accidents.index, top_20_make_accidents.values, linestyle='-', linewidth=2.0, color='blue')\n",
    "plt.xlabel('Make of Aircrafts')\n",
    "plt.ylabel('Number of Accidents')\n",
    "plt.title('Number of Accidents for Top 20 Make of Aircrafts')\n",
    "plt.xticks(rotation=90)\n",
    "plt.grid()\n",
    "plt.show()\n"
   ]
  },
  {
   "cell_type": "markdown",
   "metadata": {},
   "source": [
    "### Groupby Make and Model\n",
    "I figure out which Models of Make of aircrafts relates to high total injuries caused by aircrafts"
   ]
  },
  {
   "cell_type": "code",
   "execution_count": 622,
   "metadata": {},
   "outputs": [
    {
     "data": {
      "text/html": [
       "<div>\n",
       "<style scoped>\n",
       "    .dataframe tbody tr th:only-of-type {\n",
       "        vertical-align: middle;\n",
       "    }\n",
       "\n",
       "    .dataframe tbody tr th {\n",
       "        vertical-align: top;\n",
       "    }\n",
       "\n",
       "    .dataframe thead th {\n",
       "        text-align: right;\n",
       "    }\n",
       "</style>\n",
       "<table border=\"1\" class=\"dataframe\">\n",
       "  <thead>\n",
       "    <tr style=\"text-align: right;\">\n",
       "      <th></th>\n",
       "      <th>make</th>\n",
       "      <th>model</th>\n",
       "      <th>total_injuries</th>\n",
       "    </tr>\n",
       "  </thead>\n",
       "  <tbody>\n",
       "    <tr>\n",
       "      <th>4177</th>\n",
       "      <td>cessna</td>\n",
       "      <td>152</td>\n",
       "      <td>2349.0</td>\n",
       "    </tr>\n",
       "    <tr>\n",
       "      <th>4201</th>\n",
       "      <td>cessna</td>\n",
       "      <td>172</td>\n",
       "      <td>1717.0</td>\n",
       "    </tr>\n",
       "    <tr>\n",
       "      <th>4252</th>\n",
       "      <td>cessna</td>\n",
       "      <td>172n</td>\n",
       "      <td>1146.0</td>\n",
       "    </tr>\n",
       "    <tr>\n",
       "      <th>12659</th>\n",
       "      <td>piper</td>\n",
       "      <td>pa-28-140</td>\n",
       "      <td>925.0</td>\n",
       "    </tr>\n",
       "    <tr>\n",
       "      <th>4150</th>\n",
       "      <td>cessna</td>\n",
       "      <td>150</td>\n",
       "      <td>817.0</td>\n",
       "    </tr>\n",
       "    <tr>\n",
       "      <th>4250</th>\n",
       "      <td>cessna</td>\n",
       "      <td>172m</td>\n",
       "      <td>794.0</td>\n",
       "    </tr>\n",
       "    <tr>\n",
       "      <th>4255</th>\n",
       "      <td>cessna</td>\n",
       "      <td>172p</td>\n",
       "      <td>684.0</td>\n",
       "    </tr>\n",
       "    <tr>\n",
       "      <th>4308</th>\n",
       "      <td>cessna</td>\n",
       "      <td>182</td>\n",
       "      <td>651.0</td>\n",
       "    </tr>\n",
       "    <tr>\n",
       "      <th>4285</th>\n",
       "      <td>cessna</td>\n",
       "      <td>180</td>\n",
       "      <td>620.0</td>\n",
       "    </tr>\n",
       "    <tr>\n",
       "      <th>4176</th>\n",
       "      <td>cessna</td>\n",
       "      <td>150m</td>\n",
       "      <td>583.0</td>\n",
       "    </tr>\n",
       "  </tbody>\n",
       "</table>\n",
       "</div>"
      ],
      "text/plain": [
       "         make      model  total_injuries\n",
       "4177   cessna        152          2349.0\n",
       "4201   cessna        172          1717.0\n",
       "4252   cessna       172n          1146.0\n",
       "12659   piper  pa-28-140           925.0\n",
       "4150   cessna        150           817.0\n",
       "4250   cessna       172m           794.0\n",
       "4255   cessna       172p           684.0\n",
       "4308   cessna        182           651.0\n",
       "4285   cessna        180           620.0\n",
       "4176   cessna       150m           583.0"
      ]
     },
     "execution_count": 622,
     "metadata": {},
     "output_type": "execute_result"
    }
   ],
   "source": [
    "#groupby 'make' and 'model' and aggregate them to get 'total-injuries'\n",
    "grouped_by_make_and_model = cleaned_aviation_df.groupby(by=['make', 'model'])[['total_injuries']].agg(len).reset_index()\n",
    "\n",
    "#sort it in decending order to get the top make and model combination with high total injuries\n",
    "grouped_by_make_and_model = grouped_by_make_and_model.sort_values(by='total_injuries', ascending=False)\n",
    "grouped_by_make_and_model.head(10)"
   ]
  },
  {
   "cell_type": "markdown",
   "metadata": {},
   "source": [
    "\n",
    "***\n",
    "* Make of aircrafts is one of the most important variables in this analysis\n",
    "* Aircraft Make sush as Cessna and its Models such as 152 and 172 are shown to be involved in more accidents causing more total injuries than others..\n",
    "***"
   ]
  },
  {
   "cell_type": "markdown",
   "metadata": {},
   "source": [
    "#### Groupby Make and Number of Engines"
   ]
  },
  {
   "cell_type": "code",
   "execution_count": 573,
   "metadata": {},
   "outputs": [
    {
     "data": {
      "text/html": [
       "<div>\n",
       "<style scoped>\n",
       "    .dataframe tbody tr th:only-of-type {\n",
       "        vertical-align: middle;\n",
       "    }\n",
       "\n",
       "    .dataframe tbody tr th {\n",
       "        vertical-align: top;\n",
       "    }\n",
       "\n",
       "    .dataframe thead th {\n",
       "        text-align: right;\n",
       "    }\n",
       "</style>\n",
       "<table border=\"1\" class=\"dataframe\">\n",
       "  <thead>\n",
       "    <tr style=\"text-align: right;\">\n",
       "      <th></th>\n",
       "      <th>make</th>\n",
       "      <th>number_of_engines</th>\n",
       "      <th>total_injuries</th>\n",
       "    </tr>\n",
       "  </thead>\n",
       "  <tbody>\n",
       "    <tr>\n",
       "      <th>1316</th>\n",
       "      <td>cessna</td>\n",
       "      <td>1</td>\n",
       "      <td>24479.0</td>\n",
       "    </tr>\n",
       "    <tr>\n",
       "      <th>5454</th>\n",
       "      <td>piper</td>\n",
       "      <td>1</td>\n",
       "      <td>12542.0</td>\n",
       "    </tr>\n",
       "    <tr>\n",
       "      <th>665</th>\n",
       "      <td>beech</td>\n",
       "      <td>1</td>\n",
       "      <td>3333.0</td>\n",
       "    </tr>\n",
       "    <tr>\n",
       "      <th>688</th>\n",
       "      <td>bell</td>\n",
       "      <td>1</td>\n",
       "      <td>2438.0</td>\n",
       "    </tr>\n",
       "    <tr>\n",
       "      <th>1317</th>\n",
       "      <td>cessna</td>\n",
       "      <td>2</td>\n",
       "      <td>2247.0</td>\n",
       "    </tr>\n",
       "    <tr>\n",
       "      <th>5455</th>\n",
       "      <td>piper</td>\n",
       "      <td>2</td>\n",
       "      <td>2097.0</td>\n",
       "    </tr>\n",
       "    <tr>\n",
       "      <th>666</th>\n",
       "      <td>beech</td>\n",
       "      <td>2</td>\n",
       "      <td>1928.0</td>\n",
       "    </tr>\n",
       "    <tr>\n",
       "      <th>4917</th>\n",
       "      <td>mooney</td>\n",
       "      <td>1</td>\n",
       "      <td>1318.0</td>\n",
       "    </tr>\n",
       "    <tr>\n",
       "      <th>5951</th>\n",
       "      <td>robinson</td>\n",
       "      <td>1</td>\n",
       "      <td>1185.0</td>\n",
       "    </tr>\n",
       "    <tr>\n",
       "      <th>2960</th>\n",
       "      <td>grumman</td>\n",
       "      <td>1</td>\n",
       "      <td>1070.0</td>\n",
       "    </tr>\n",
       "  </tbody>\n",
       "</table>\n",
       "</div>"
      ],
      "text/plain": [
       "          make number_of_engines  total_injuries\n",
       "1316    cessna                 1         24479.0\n",
       "5454     piper                 1         12542.0\n",
       "665      beech                 1          3333.0\n",
       "688       bell                 1          2438.0\n",
       "1317    cessna                 2          2247.0\n",
       "5455     piper                 2          2097.0\n",
       "666      beech                 2          1928.0\n",
       "4917    mooney                 1          1318.0\n",
       "5951  robinson                 1          1185.0\n",
       "2960   grumman                 1          1070.0"
      ]
     },
     "execution_count": 573,
     "metadata": {},
     "output_type": "execute_result"
    }
   ],
   "source": [
    "#groupby 'make' and 'engine_number' and aggregate them to get 'total-injuries'\n",
    "grouped_by_make_and_egnine_num = cleaned_aviation_df.groupby(by=['make','number_of_engines'])[['total_injuries']].agg(len).reset_index()\n",
    "\n",
    "#sort it in decending order to get the top make and engine_number combination with high total injuries\n",
    "grouped_by_make_and_egnine_num = grouped_by_make_and_egnine_num.sort_values(by='total_injuries', ascending=False)\n",
    "grouped_by_make_and_egnine_num.head(10)"
   ]
  },
  {
   "cell_type": "markdown",
   "metadata": {},
   "source": [
    "* Aircraft Make sush as Cessna and Piper with 1 engine are shown to be involved in more accidents causing more total injuries than others."
   ]
  },
  {
   "cell_type": "markdown",
   "metadata": {},
   "source": [
    "### Groupby Make and Engine Types"
   ]
  },
  {
   "cell_type": "code",
   "execution_count": 623,
   "metadata": {},
   "outputs": [
    {
     "data": {
      "text/html": [
       "<div>\n",
       "<style scoped>\n",
       "    .dataframe tbody tr th:only-of-type {\n",
       "        vertical-align: middle;\n",
       "    }\n",
       "\n",
       "    .dataframe tbody tr th {\n",
       "        vertical-align: top;\n",
       "    }\n",
       "\n",
       "    .dataframe thead th {\n",
       "        text-align: right;\n",
       "    }\n",
       "</style>\n",
       "<table border=\"1\" class=\"dataframe\">\n",
       "  <thead>\n",
       "    <tr style=\"text-align: right;\">\n",
       "      <th></th>\n",
       "      <th>make</th>\n",
       "      <th>engine_type</th>\n",
       "      <th>total_injuries</th>\n",
       "    </tr>\n",
       "  </thead>\n",
       "  <tbody>\n",
       "    <tr>\n",
       "      <th>1356</th>\n",
       "      <td>cessna</td>\n",
       "      <td>Reciprocating</td>\n",
       "      <td>26090.0</td>\n",
       "    </tr>\n",
       "    <tr>\n",
       "      <th>5549</th>\n",
       "      <td>piper</td>\n",
       "      <td>Reciprocating</td>\n",
       "      <td>14390.0</td>\n",
       "    </tr>\n",
       "    <tr>\n",
       "      <th>687</th>\n",
       "      <td>beech</td>\n",
       "      <td>Reciprocating</td>\n",
       "      <td>4645.0</td>\n",
       "    </tr>\n",
       "    <tr>\n",
       "      <th>719</th>\n",
       "      <td>bell</td>\n",
       "      <td>Turbo_Shaft</td>\n",
       "      <td>1571.0</td>\n",
       "    </tr>\n",
       "    <tr>\n",
       "      <th>5010</th>\n",
       "      <td>mooney</td>\n",
       "      <td>Reciprocating</td>\n",
       "      <td>1317.0</td>\n",
       "    </tr>\n",
       "    <tr>\n",
       "      <th>6054</th>\n",
       "      <td>robinson</td>\n",
       "      <td>Reciprocating</td>\n",
       "      <td>1153.0</td>\n",
       "    </tr>\n",
       "    <tr>\n",
       "      <th>3021</th>\n",
       "      <td>grumman</td>\n",
       "      <td>Reciprocating</td>\n",
       "      <td>1081.0</td>\n",
       "    </tr>\n",
       "    <tr>\n",
       "      <th>752</th>\n",
       "      <td>bellanca</td>\n",
       "      <td>Reciprocating</td>\n",
       "      <td>1035.0</td>\n",
       "    </tr>\n",
       "    <tr>\n",
       "      <th>715</th>\n",
       "      <td>bell</td>\n",
       "      <td>Reciprocating</td>\n",
       "      <td>924.0</td>\n",
       "    </tr>\n",
       "    <tr>\n",
       "      <th>893</th>\n",
       "      <td>boeing</td>\n",
       "      <td>Reciprocating</td>\n",
       "      <td>693.0</td>\n",
       "    </tr>\n",
       "  </tbody>\n",
       "</table>\n",
       "</div>"
      ],
      "text/plain": [
       "          make    engine_type  total_injuries\n",
       "1356    cessna  Reciprocating         26090.0\n",
       "5549     piper  Reciprocating         14390.0\n",
       "687      beech  Reciprocating          4645.0\n",
       "719       bell    Turbo_Shaft          1571.0\n",
       "5010    mooney  Reciprocating          1317.0\n",
       "6054  robinson  Reciprocating          1153.0\n",
       "3021   grumman  Reciprocating          1081.0\n",
       "752   bellanca  Reciprocating          1035.0\n",
       "715       bell  Reciprocating           924.0\n",
       "893     boeing  Reciprocating           693.0"
      ]
     },
     "execution_count": 623,
     "metadata": {},
     "output_type": "execute_result"
    }
   ],
   "source": [
    "#groupby 'make' and 'engine_type' and aggregate them to get 'total-injuries'\n",
    "grouped_by_make_and_egnine_type = cleaned_aviation_df.groupby(by=['make', 'engine_type'])[['total_injuries']].agg(len).reset_index()\n",
    "\n",
    "#sort it in decending order to get the top make and engine_type combination with high total injuries\n",
    "grouped_by_make_and_egnine_type = grouped_by_make_and_egnine_type.sort_values(by='total_injuries', ascending=False)\n",
    "grouped_by_make_and_egnine_type.head(10)"
   ]
  },
  {
   "cell_type": "markdown",
   "metadata": {},
   "source": [
    "* Aircraft Make sush as Cessna and Piper with Reciprocating engine are shown to be involved in more accidents causing more total injuries than others."
   ]
  },
  {
   "cell_type": "markdown",
   "metadata": {},
   "source": [
    "### Other Factors\n",
    "* The effect of weather conditions is alanayzed here\n",
    "* This is to see if other factors, other than those related to the aircraft, are the main causes of aircraft accidents"
   ]
  },
  {
   "cell_type": "code",
   "execution_count": 624,
   "metadata": {},
   "outputs": [
    {
     "name": "stdout",
     "output_type": "stream",
     "text": [
      "Number of accidents by weather conditions: \n",
      "VMC    78116\n",
      "IMC     5736\n",
      "UNK      978\n",
      "Name: weather_condition, dtype: int64\n"
     ]
    }
   ],
   "source": [
    "#value_counts for 'weather_condition'\n",
    "weather_value_counts = cleaned_aviation_df['weather_condition'].value_counts()\n",
    "\n",
    "print(f\"Number of accidents by weather conditions: \\n{weather_value_counts}\")"
   ]
  },
  {
   "cell_type": "markdown",
   "metadata": {},
   "source": [
    "* There are more accidents during VMC (Visual Meteorological Conditions)(in good conditions) than IMC (Instrument Meteorological Conditions)(bad conditions) \n",
    "* This means weather conditions are not the major causes of aircraft accidents.\n",
    "* Factors related to aircrafts are more important than external factors"
   ]
  },
  {
   "cell_type": "markdown",
   "metadata": {},
   "source": [
    "## Conclusions\n",
    "This analysis leads to three recommendations for the decision to purchase of aircraft with the lowest risk \n",
    "* Consider buying aircrafts with a greater number of engines and engines types which are with the lowest accidents recorded. Aircrafts with engine types such as Reciprocating must be avoided.\n",
    "* Aircrafts Make and Models must be highly regarded during aircraft purchase. Make and Models such as Cessna and its Models 152 and 172 which are shown to be more involved in accidents than others must be avoided.\n",
    "* Most importantly, avoid some combination of factors such as Cessna Make, Reciprocating type and one engine which has the highest number of accidents and injuries recorded..\n",
    "* Aircrafts with the least number of accident records in this dataset are not considered to be with lowest risk in this analysis because this can probably be due to their low level of operation which in turn reduce the chance of accidents.\n",
    "* This project can be improved by taking a dataset of accidents by highly and equally operational aircrafts in the world and finding out the ones with the lowest accident. "
   ]
  }
 ],
 "metadata": {
  "kernelspec": {
   "display_name": "Python (learn-env)",
   "language": "python",
   "name": "learn-env"
  },
  "language_info": {
   "codemirror_mode": {
    "name": "ipython",
    "version": 3
   },
   "file_extension": ".py",
   "mimetype": "text/x-python",
   "name": "python",
   "nbconvert_exporter": "python",
   "pygments_lexer": "ipython3",
   "version": "3.8.5"
  }
 },
 "nbformat": 4,
 "nbformat_minor": 4
}
